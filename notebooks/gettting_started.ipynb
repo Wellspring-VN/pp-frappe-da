{
 "cells": [
  {
   "cell_type": "code",
   "execution_count": 1,
   "id": "fec3384c-9edc-448f-bd59-044cd1f4d805",
   "metadata": {},
   "outputs": [
    {
     "name": "stdout",
     "output_type": "stream",
     "text": [
      "Connecting to  http://192.168.0.55:8000\n"
     ]
    }
   ],
   "source": [
    "import sys\n",
    "sys.path.append('../ppda')\n",
    "\n",
    "from db_service import DBService\n",
    "import config\n",
    "print(\"Connecting to \",config.BASE_URL)\n",
    "conn = DBService()\n",
    "conn.login('administrator', 'wellspring@2024')"
   ]
  },
  {
   "cell_type": "code",
   "execution_count": null,
   "id": "31dd5248-860c-4448-83fe-29244818ea8b",
   "metadata": {},
   "outputs": [],
   "source": [
    "from user import User\n",
    "\n",
    "User.find_all()"
   ]
  },
  {
   "cell_type": "code",
   "execution_count": 16,
   "id": "4edcfce1-6d10-4d2e-b2b8-a6663043e304",
   "metadata": {},
   "outputs": [
    {
     "data": {
      "text/html": [
       "<div>\n",
       "<style scoped>\n",
       "    .dataframe tbody tr th:only-of-type {\n",
       "        vertical-align: middle;\n",
       "    }\n",
       "\n",
       "    .dataframe tbody tr th {\n",
       "        vertical-align: top;\n",
       "    }\n",
       "\n",
       "    .dataframe thead th {\n",
       "        text-align: right;\n",
       "    }\n",
       "</style>\n",
       "<table border=\"1\" class=\"dataframe\">\n",
       "  <thead>\n",
       "    <tr style=\"text-align: right;\">\n",
       "      <th></th>\n",
       "      <th>name</th>\n",
       "      <th>owner</th>\n",
       "      <th>creation</th>\n",
       "      <th>modified</th>\n",
       "      <th>modified_by</th>\n",
       "      <th>docstatus</th>\n",
       "      <th>idx</th>\n",
       "      <th>avatar</th>\n",
       "      <th>first_name</th>\n",
       "      <th>middle_name</th>\n",
       "      <th>last_name</th>\n",
       "      <th>full_name</th>\n",
       "      <th>english_name</th>\n",
       "      <th>common_name</th>\n",
       "      <th>email</th>\n",
       "      <th>phone_number</th>\n",
       "      <th>date_of_birth</th>\n",
       "      <th>gender</th>\n",
       "      <th>nationality</th>\n",
       "    </tr>\n",
       "  </thead>\n",
       "  <tbody>\n",
       "    <tr>\n",
       "      <th>0</th>\n",
       "      <td>1rpsp77k4k</td>\n",
       "      <td>Administrator</td>\n",
       "      <td>2024-07-15 15:58:33.280235</td>\n",
       "      <td>2024-07-15 16:08:33.044971</td>\n",
       "      <td>Administrator</td>\n",
       "      <td>0</td>\n",
       "      <td>0</td>\n",
       "      <td>None</td>\n",
       "      <td>Mia</td>\n",
       "      <td>Hai</td>\n",
       "      <td>Do</td>\n",
       "      <td>Mia Hai Do</td>\n",
       "      <td>None</td>\n",
       "      <td>None</td>\n",
       "      <td>minh@gmail.com</td>\n",
       "      <td>None</td>\n",
       "      <td>1985-10-24</td>\n",
       "      <td>Male</td>\n",
       "      <td>Vietnam</td>\n",
       "    </tr>\n",
       "  </tbody>\n",
       "</table>\n",
       "</div>"
      ],
      "text/plain": [
       "         name          owner                    creation  \\\n",
       "0  1rpsp77k4k  Administrator  2024-07-15 15:58:33.280235   \n",
       "\n",
       "                     modified    modified_by  docstatus  idx avatar  \\\n",
       "0  2024-07-15 16:08:33.044971  Administrator          0    0   None   \n",
       "\n",
       "  first_name middle_name last_name   full_name english_name common_name  \\\n",
       "0        Mia         Hai        Do  Mia Hai Do         None        None   \n",
       "\n",
       "            email phone_number date_of_birth gender nationality  \n",
       "0  minh@gmail.com         None    1985-10-24   Male     Vietnam  "
      ]
     },
     "execution_count": 16,
     "metadata": {},
     "output_type": "execute_result"
    }
   ],
   "source": [
    "from sis_person import SISPerson\n",
    "\n",
    "SISPerson.find_all()"
   ]
  },
  {
   "cell_type": "code",
   "execution_count": 3,
   "id": "df9492f8-fbf8-465e-a39b-d091123767a6",
   "metadata": {},
   "outputs": [],
   "source": [
    "minh = SISPerson({\n",
    "    \"first_name\": \"Minh\",\n",
    "    \"middle_name\": \"Hai\",\n",
    "    \"last_name\": \"Do\",\n",
    "    \"email\": \"minh@gmail.com\",\n",
    "    \"gender\": \"Male\",\n",
    "    \"nationality\": \"Vietnam\",\n",
    "    \"date_of_birth\": \"1985-10-24\",\n",
    "})"
   ]
  },
  {
   "cell_type": "code",
   "execution_count": 6,
   "id": "2521d2cb-a2fc-41a0-847e-805732e05d76",
   "metadata": {},
   "outputs": [
    {
     "data": {
      "text/plain": [
       "{'name': '1rpsp77k4k',\n",
       " 'first_name': 'Minh',\n",
       " 'middle_name': 'Hai',\n",
       " 'last_name': 'Do',\n",
       " 'email': 'minh@gmail.com',\n",
       " 'gender': 'Male',\n",
       " 'nationality': 'Vietnam',\n",
       " 'date_of_birth': '1985-10-24',\n",
       " 'doctype': 'SIS Person'}"
      ]
     },
     "execution_count": 6,
     "metadata": {},
     "output_type": "execute_result"
    }
   ],
   "source": [
    "minh.to_json()"
   ]
  },
  {
   "cell_type": "code",
   "execution_count": 5,
   "id": "cf83859a-6a92-4bd8-a767-0c4fd1cb7c3f",
   "metadata": {},
   "outputs": [],
   "source": [
    "minh.save()"
   ]
  },
  {
   "cell_type": "code",
   "execution_count": 11,
   "id": "f9526b31-aa16-4b0b-b02c-7969bbc657cb",
   "metadata": {},
   "outputs": [],
   "source": [
    "update_minh = SISPerson(SISPerson.find_by_id('1rpsp77k4k'))"
   ]
  },
  {
   "cell_type": "code",
   "execution_count": 15,
   "id": "93288878-4a1a-407e-b274-5c778d0cb104",
   "metadata": {},
   "outputs": [],
   "source": [
    "update_minh.first_name = \"Mia\"\n",
    "update_minh.save()"
   ]
  },
  {
   "cell_type": "code",
   "execution_count": null,
   "id": "12dd6599-8642-4661-88b6-aa467283f69c",
   "metadata": {},
   "outputs": [],
   "source": []
  }
 ],
 "metadata": {
  "kernelspec": {
   "display_name": "Python 3 (ipykernel)",
   "language": "python",
   "name": "python3"
  },
  "language_info": {
   "codemirror_mode": {
    "name": "ipython",
    "version": 3
   },
   "file_extension": ".py",
   "mimetype": "text/x-python",
   "name": "python",
   "nbconvert_exporter": "python",
   "pygments_lexer": "ipython3",
   "version": "3.10.9"
  }
 },
 "nbformat": 4,
 "nbformat_minor": 5
}
